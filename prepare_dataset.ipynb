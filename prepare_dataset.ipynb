{
 "cells": [
  {
   "cell_type": "code",
   "execution_count": 1,
   "id": "d1bd9035-829f-4e92-b0a8-1245adc2333f",
   "metadata": {},
   "outputs": [],
   "source": [
    "# Disable jedi autocompleter\n",
    "%config Completer.use_jedi = False"
   ]
  },
  {
   "cell_type": "code",
   "execution_count": 2,
   "id": "330b6d00-5854-4836-96fa-328356ef14a3",
   "metadata": {},
   "outputs": [],
   "source": [
    "import numpy as np\n",
    "import pandas as pd\n",
    "import os \n",
    "import itertools"
   ]
  },
  {
   "cell_type": "markdown",
   "id": "bf3a4ce5-f763-47b3-805a-9e072a6eaf47",
   "metadata": {},
   "source": [
    "### Preprocess Data"
   ]
  },
  {
   "cell_type": "code",
   "execution_count": 3,
   "id": "40177101-ebd2-485b-8fab-f6dee2f454ca",
   "metadata": {},
   "outputs": [],
   "source": [
    "def find_unique_items(input_path, output_path):\n",
    "    \"\"\"function for finding the unique items in BMS txt file\"\"\"\n",
    "    input_file = open(input_path, \"r\")\n",
    "    output_file = open(output_path, \"w\")\n",
    "\n",
    "    input_contents = input_file.read()\n",
    "    item_list = input_contents.split()\n",
    "    unique_items = set(item_list)\n",
    "    \n",
    "    unique_items.difference_update({\"-1\",\"-2\"})\n",
    "    \n",
    "    for item in unique_items:\n",
    "        output_file.write(str(item) + \"\\n\")\n",
    "\n",
    "    input_file.close()\n",
    "    output_file.close()\n"
   ]
  },
  {
   "cell_type": "code",
   "execution_count": 4,
   "id": "ec3b086d-f49e-4b82-83f9-880c21e320f6",
   "metadata": {},
   "outputs": [],
   "source": [
    "find_unique_items(\"./Dataset/BMS1_spmf.txt\", \"./Dataset/BMS1_item_names.txt\")"
   ]
  },
  {
   "cell_type": "code",
   "execution_count": 8,
   "id": "607ef5ad-ee7f-4cd2-ae42-d7c017fea748",
   "metadata": {},
   "outputs": [],
   "source": [
    "def sequence_to_binary_matrix(data_path, item_names_path, output_path):\n",
    "    \"\"\"\n",
    "    converts sequences of data into binary matrix format\n",
    "    and creates a new csv file to store it\n",
    "    \"\"\"\n",
    "    data_file = open(data_path, \"r\")\n",
    "    item_names_file = open(item_names_path, \"r\")\n",
    "    \n",
    "    item_names = item_names_file.read().split()    \n",
    "    \n",
    "    # create item index dictionary to create binary matrix\n",
    "    item_index = {}\n",
    "    idx = 0\n",
    "    for item in [int(item) for item in item_names]:\n",
    "        item_index[item] = idx\n",
    "        idx += 1\n",
    "    \n",
    "    # read and clean sequence rows (original form of the data)\n",
    "    binary_matrix = list()\n",
    "    with open(data_path) as file:\n",
    "        for line in file:\n",
    "            row = [int(value) for value in set(line.rstrip().split()) if value != \"-1\" and value != \"-2\"] \n",
    "            \n",
    "            # vector of zeros \n",
    "            vec = np.zeros(len(item_names))\n",
    "            for item in row:\n",
    "                for key,idx in item_index.items():\n",
    "                    if item == key:\n",
    "                        vec[idx] = 1\n",
    "            binary_matrix.append(vec)    \n",
    "    \n",
    "    df = pd.DataFrame(binary_matrix,columns=item_index.keys(), dtype=np.int)\n",
    "    df.to_csv(output_path, index=None)\n",
    "    \n"
   ]
  },
  {
   "cell_type": "code",
   "execution_count": 9,
   "id": "c7c1617e-555d-4918-8f41-f5e540691178",
   "metadata": {},
   "outputs": [],
   "source": [
    "sequence_to_binary_matrix(\"./Dataset/BMS1_spmf.txt\", \"./Dataset/BMS1_item_names.txt\", \"./Dataset/BMS1_table.csv\")"
   ]
  },
  {
   "cell_type": "code",
   "execution_count": null,
   "id": "cf96c366-c944-4000-84a4-a555751ccccb",
   "metadata": {},
   "outputs": [],
   "source": []
  }
 ],
 "metadata": {
  "kernelspec": {
   "display_name": "base",
   "language": "python",
   "name": "base"
  },
  "language_info": {
   "codemirror_mode": {
    "name": "ipython",
    "version": 3
   },
   "file_extension": ".py",
   "mimetype": "text/x-python",
   "name": "python",
   "nbconvert_exporter": "python",
   "pygments_lexer": "ipython3",
   "version": "3.8.10"
  }
 },
 "nbformat": 4,
 "nbformat_minor": 5
}
