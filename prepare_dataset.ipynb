{
 "cells": [
  {
   "cell_type": "code",
   "execution_count": 1,
   "id": "d1bd9035-829f-4e92-b0a8-1245adc2333f",
   "metadata": {},
   "outputs": [],
   "source": [
    "# Disable jedi autocompleter\n",
    "%config Completer.use_jedi = False"
   ]
  },
  {
   "cell_type": "code",
   "execution_count": 2,
   "id": "330b6d00-5854-4836-96fa-328356ef14a3",
   "metadata": {},
   "outputs": [],
   "source": [
    "import numpy as np\n",
    "import pandas as pd\n",
    "import os \n",
    "import itertools"
   ]
  },
  {
   "cell_type": "markdown",
   "id": "bf3a4ce5-f763-47b3-805a-9e072a6eaf47",
   "metadata": {},
   "source": [
    "### Preprocess Data"
   ]
  },
  {
   "cell_type": "code",
   "execution_count": 4,
   "id": "40177101-ebd2-485b-8fab-f6dee2f454ca",
   "metadata": {},
   "outputs": [],
   "source": [
    "def find_unique_items(input_path, output_path):\n",
    "    \"\"\"function for finding the unique items in BMS txt file\"\"\"\n",
    "    input_file = open(input_path, \"r\")\n",
    "    output_file = open(output_path, \"w\")\n",
    "\n",
    "    input_contents = input_file.read()\n",
    "    item_list = input_contents.split()\n",
    "    unique_items = set(item_list)\n",
    "    \n",
    "    unique_items.difference_update({\"-1\",\"-2\"})\n",
    "    \n",
    "    for item in unique_items:\n",
    "        output_file.write(str(item) + \"\\n\")\n",
    "\n",
    "    input_file.close()\n",
    "    output_file.close()\n"
   ]
  },
  {
   "cell_type": "code",
   "execution_count": 4,
   "id": "ec3b086d-f49e-4b82-83f9-880c21e320f6",
   "metadata": {},
   "outputs": [],
   "source": [
    "find_unique_items(\"./Dataset/BMS1_spmf.txt\", \"./Dataset/BMS1_item_names.txt\")"
   ]
  },
  {
   "cell_type": "code",
   "execution_count": 5,
   "id": "607ef5ad-ee7f-4cd2-ae42-d7c017fea748",
   "metadata": {},
   "outputs": [],
   "source": [
    "def sequence_to_binary_matrix(data_path, item_names_path, output_path):\n",
    "    \"\"\"\n",
    "    converts sequences of data into binary matrix format\n",
    "    and creates a new csv file to store it\n",
    "    \"\"\"\n",
    "    data_file = open(data_path, \"r\")\n",
    "    item_names_file = open(item_names_path, \"r\")\n",
    "    \n",
    "    item_names = item_names_file.read().split()    \n",
    "    \n",
    "    # create item index dictionary to create binary matrix\n",
    "    item_index = {}\n",
    "    idx = 0\n",
    "    for item in [int(item) for item in item_names]:\n",
    "        item_index[item] = idx\n",
    "        idx += 1\n",
    "    \n",
    "    # read and clean sequence rows (original form of the data)\n",
    "    binary_matrix = list()\n",
    "    with open(data_path) as file:\n",
    "        for line in file:\n",
    "            row = [int(value) for value in set(line.rstrip().split()) if value != \"-1\" and value != \"-2\"] \n",
    "            \n",
    "            # vector of zeros \n",
    "            vec = np.zeros(len(item_names))\n",
    "            for item in row:\n",
    "                for key,idx in item_index.items():\n",
    "                    if item == key:\n",
    "                        vec[idx] = 1\n",
    "            binary_matrix.append(vec)    \n",
    "    \n",
    "    df = pd.DataFrame(binary_matrix,columns=item_index.keys(), dtype=np.int)\n",
    "    df.to_csv(output_path, index=None)\n",
    "    \n"
   ]
  },
  {
   "cell_type": "code",
   "execution_count": null,
   "id": "c7c1617e-555d-4918-8f41-f5e540691178",
   "metadata": {},
   "outputs": [],
   "source": [
    "sequence_to_binary_matrix(\"./Dataset/BMS2.txt\", \"./Dataset/BMS2_item_names.txt\", \"./Dataset/BMS2_table.csv\")"
   ]
  },
  {
   "cell_type": "code",
   "execution_count": 3,
   "id": "cf96c366-c944-4000-84a4-a555751ccccb",
   "metadata": {},
   "outputs": [],
   "source": [
    "#READ FILE BMS2\n",
    "file = open(\"./Dataset/BMS2.txt\",\"r\")\n",
    "read = file.readlines()\n",
    "lines = list()\n",
    "for line in read:\n",
    "    line = line.replace(\"-2\",\"\")\n",
    "    line = line.replace(\" \",\"\")\n",
    "    line = line[:-2]\n",
    "    line = line.rstrip(\"-\")\n",
    "    line= line.replace(\"-1\",\",\")\n",
    "    lines.append(line)\n",
    "file.close()\n",
    "file_write = open(\"./Dataset/BMS2_table.csv\",\"w\")\n",
    "for line in lines:\n",
    "    file_write.write(line+\"\\n\")\n",
    "file_write.close()"
   ]
  },
  {
   "cell_type": "code",
   "execution_count": null,
   "id": "1519b272-c3d2-416b-8219-22e124a16803",
   "metadata": {},
   "outputs": [],
   "source": [
    "# BMS2\n",
    "my_cols = [x for x in range(0,161)]\n",
    "df = pd.read_csv(\"./Dataset/BMS2_table.csv\",names=my_cols,index_col=None ,engine='c',dtype= 'object')\n",
    "df = df.where((pd.notnull(df)), None)\n",
    "df_dummies = pd.get_dummies(df)\n",
    "df_dummies = df_dummies[:10000]\n",
    "# sum item with same number after _\n",
    "columns = list()\n",
    "for column in df_dummies.columns:\n",
    "    for column_1 in df_dummies.columns:\n",
    "        if(column != column_1 and column.split('_')[1] == column_1.split('_')[1] and column.split('_')[1] not in columns ):\n",
    "            columns.append(column.split('_')[1])\n",
    "\n",
    "# remove duplicate\n",
    "columns = list(set(columns))  \n",
    "zero_data = np.zeros(shape=(len(df_dummies),len(columns)))\n",
    "df_new = pd.DataFrame(zero_data, columns=columns,dtype='uint8')\n",
    "# qualcosa non val alcuni sono valori maggiori di 1\n",
    "# create a transactional data\n",
    "for column in df_dummies.columns:\n",
    "    for column_1 in df_dummies.columns:\n",
    "        if(column != column_1 and column.split('_')[1] == column_1.split('_')[1]):\n",
    "            if(column.split('_')[0]=='0'):\n",
    "                colonna_new  = column.split('_')[1]\n",
    "                if(len(df_new.index[df_new[colonna_new] > 0].tolist())==0):\n",
    "                    df_new[colonna_new]=df_new[colonna_new] + df_dummies[column] + df_dummies[column_1]\n",
    "                else:\n",
    "                    df_new[colonna_new] = df_new[colonna_new] + df_dummies[column_1]\n",
    "                print(df_new[colonna_new])\n",
    "                break\n",
    "                \n",
    "# ora bisogn aaggiungere len(df) -len(columns) item finti con vlori tutti 0 \n",
    "# per avere una matrice quadrata (vedi paper)\n",
    "len(columns)\n",
    "# write item in a file\n",
    "with open(\"./Dataset/BMS2_item_names.txt\",\"w\") as f:\n",
    "    for x in list(df_new.columns):\n",
    "        f.write(str(x)+\"\\n\")\n",
    "        \n",
    "df_new.to_csv(\"./Dataset/BMS2_10k_records.csv\",index=None,header=None)"
   ]
  }
 ],
 "metadata": {
  "kernelspec": {
   "display_name": "base",
   "language": "python",
   "name": "base"
  },
  "language_info": {
   "codemirror_mode": {
    "name": "ipython",
    "version": 3
   },
   "file_extension": ".py",
   "mimetype": "text/x-python",
   "name": "python",
   "nbconvert_exporter": "python",
   "pygments_lexer": "ipython3",
   "version": "3.8.10"
  }
 },
 "nbformat": 4,
 "nbformat_minor": 5
}
